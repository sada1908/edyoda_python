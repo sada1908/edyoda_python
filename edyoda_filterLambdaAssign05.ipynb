{
  "nbformat": 4,
  "nbformat_minor": 0,
  "metadata": {
    "colab": {
      "provenance": [],
      "authorship_tag": "ABX9TyMuIEOYyPpoKG/3k1RjOqNm",
      "include_colab_link": true
    },
    "kernelspec": {
      "name": "python3",
      "display_name": "Python 3"
    },
    "language_info": {
      "name": "python"
    }
  },
  "cells": [
    {
      "cell_type": "markdown",
      "metadata": {
        "id": "view-in-github",
        "colab_type": "text"
      },
      "source": [
        "<a href=\"https://colab.research.google.com/github/sada1908/edyoda_python/blob/main/edyoda_filterLambdaAssign05.ipynb\" target=\"_parent\"><img src=\"https://colab.research.google.com/assets/colab-badge.svg\" alt=\"Open In Colab\"/></a>"
      ]
    },
    {
      "cell_type": "code",
      "execution_count": 1,
      "metadata": {
        "id": "ssxIp-uLQO6v"
      },
      "outputs": [],
      "source": [
        "contacts = [\n",
        "    {\"name\": \"Amit Sharma\", \"email\": \"amit@gmail.com\", \"phone\": \"9876543210\", \"group\": \"work\"},\n",
        "    {\"name\": \"Neha Mehta\", \"email\": \"neha@yahoo.com\", \"phone\": \"9123456789\", \"group\": \"friend\"},\n",
        "    {\"name\": \"Rahul Verma\", \"email\": \"rahul@outlook.com\", \"phone\": \"9112345678\", \"group\": \"family\"},\n",
        "    {\"name\": \"Priya Kapoor\", \"email\": \"priya@gmail.com\", \"phone\": \"9811123456\", \"group\": \"friend\"},\n",
        "    {\"name\": \"Ravi Joshi\", \"email\": \"ravi@company.com\", \"phone\": \"9123456780\", \"group\": \"work\"},\n",
        "    {\"name\": \"Sneha Rao\", \"email\": \"sneha@gmail.com\", \"phone\": \"9823456789\", \"group\": \"family\"},\n",
        "    {\"name\": \"Ajay Nair\", \"email\": \"ajay@gmail.com\", \"phone\": \"9845678901\", \"group\": \"friend\"},\n",
        "    {\"name\": \"Divya Bhat\", \"email\": \"divya@live.com\", \"phone\": \"9832123456\", \"group\": \"work\"},\n",
        "    {\"name\": \"Suresh Raina\", \"email\": \"suresh@yahoo.com\", \"phone\": \"9123987654\", \"group\": \"family\"},\n",
        "    {\"name\": \"Kiran Desai\", \"email\": \"kiran@gmail.com\", \"phone\": \"9854123678\", \"group\": \"work\"}\n",
        "]"
      ]
    },
    {
      "cell_type": "code",
      "source": [
        "contacts.sort(key=lambda contact: contact[\"name\"])"
      ],
      "metadata": {
        "id": "mrcxw-_XOSzs"
      },
      "execution_count": 7,
      "outputs": []
    },
    {
      "cell_type": "code",
      "source": [
        "# Lambda filters\n",
        "filter_by_group = lambda group: lambda contact: contact[\"group\"] == group\n",
        "filter_by_starting_letter = lambda letter: lambda contact: contact[\"name\"].startswith(letter)\n",
        "filter_by_area_code = lambda code: lambda contact: contact[\"phone\"].startswith(code)\n",
        "filter_by_email_domain = lambda domain: lambda contact: contact[\"email\"].endswith(domain)"
      ],
      "metadata": {
        "id": "b-Ow9JUWRFfZ"
      },
      "execution_count": 10,
      "outputs": []
    },
    {
      "cell_type": "code",
      "source": [
        "# try an example\n",
        "display(filter_by_group('friend')(contacts[0]))"
      ],
      "metadata": {
        "colab": {
          "base_uri": "https://localhost:8080/",
          "height": 34
        },
        "id": "UG6Oa1xTO5hO",
        "outputId": "2ea754a7-74df-4fbe-ecf1-18a82bc2c9b6"
      },
      "execution_count": 16,
      "outputs": [
        {
          "output_type": "display_data",
          "data": {
            "text/plain": [
              "True"
            ]
          },
          "metadata": {}
        }
      ]
    },
    {
      "cell_type": "code",
      "source": [
        "# Function to filter contacts based on a lambda filter\n",
        "def filter_contacts(contacts_list, filter_func):\n",
        "    return list(filter(filter_func, contacts_list))"
      ],
      "metadata": {
        "id": "XyEaxT_SQQF_"
      },
      "execution_count": 17,
      "outputs": []
    },
    {
      "cell_type": "code",
      "source": [
        "group_contacts = filter_contacts(contacts, filter_by_group('work'))\n",
        "display(group_contacts)"
      ],
      "metadata": {
        "colab": {
          "base_uri": "https://localhost:8080/",
          "height": 295
        },
        "collapsed": true,
        "id": "AdY8on9sRcyT",
        "outputId": "09bf4b96-023c-43c6-be23-ac2aef3c3d2c"
      },
      "execution_count": 18,
      "outputs": [
        {
          "output_type": "display_data",
          "data": {
            "text/plain": [
              "[{'name': 'Amit Sharma',\n",
              "  'email': 'amit@gmail.com',\n",
              "  'phone': '9876543210',\n",
              "  'group': 'work'},\n",
              " {'name': 'Divya Bhat',\n",
              "  'email': 'divya@live.com',\n",
              "  'phone': '9832123456',\n",
              "  'group': 'work'},\n",
              " {'name': 'Kiran Desai',\n",
              "  'email': 'kiran@gmail.com',\n",
              "  'phone': '9854123678',\n",
              "  'group': 'work'},\n",
              " {'name': 'Ravi Joshi',\n",
              "  'email': 'ravi@company.com',\n",
              "  'phone': '9123456780',\n",
              "  'group': 'work'}]"
            ]
          },
          "metadata": {}
        }
      ]
    },
    {
      "cell_type": "code",
      "source": [
        "def combine_filter(*filter_funcs):\n",
        "    return lambda contact: all(filter_func(contact) for filter_func in filter_funcs)"
      ],
      "metadata": {
        "id": "DON3TIneQ7e7"
      },
      "execution_count": 19,
      "outputs": []
    },
    {
      "cell_type": "code",
      "source": [
        "# combine 'work' & 'gmail.com'\n",
        "combined_filter = combine_filter(filter_by_group('work'), filter_by_email_domain('gmail.com'))"
      ],
      "metadata": {
        "id": "siZCMj9lWvSq"
      },
      "execution_count": 20,
      "outputs": []
    },
    {
      "cell_type": "code",
      "source": [
        "display(filter_contacts(contacts, combined_filter))"
      ],
      "metadata": {
        "colab": {
          "base_uri": "https://localhost:8080/",
          "height": 156
        },
        "id": "mTeSJkZuRb6p",
        "outputId": "6af51bf2-5e5e-4de9-f077-a4cc7028c445"
      },
      "execution_count": 21,
      "outputs": [
        {
          "output_type": "display_data",
          "data": {
            "text/plain": [
              "[{'name': 'Amit Sharma',\n",
              "  'email': 'amit@gmail.com',\n",
              "  'phone': '9876543210',\n",
              "  'group': 'work'},\n",
              " {'name': 'Kiran Desai',\n",
              "  'email': 'kiran@gmail.com',\n",
              "  'phone': '9854123678',\n",
              "  'group': 'work'}]"
            ]
          },
          "metadata": {}
        }
      ]
    },
    {
      "cell_type": "code",
      "source": [],
      "metadata": {
        "id": "s2-LXIS1Rfw6"
      },
      "execution_count": null,
      "outputs": []
    }
  ]
}