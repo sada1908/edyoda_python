{
  "nbformat": 4,
  "nbformat_minor": 0,
  "metadata": {
    "colab": {
      "provenance": [],
      "authorship_tag": "ABX9TyMyhrFMqbyQ696slqv1N58r",
      "include_colab_link": true
    },
    "kernelspec": {
      "name": "python3",
      "display_name": "Python 3"
    },
    "language_info": {
      "name": "python"
    }
  },
  "cells": [
    {
      "cell_type": "markdown",
      "metadata": {
        "id": "view-in-github",
        "colab_type": "text"
      },
      "source": [
        "<a href=\"https://colab.research.google.com/github/sada1908/edyoda_python/blob/main/edyoda_assignExpCalc04.ipynb\" target=\"_parent\"><img src=\"https://colab.research.google.com/assets/colab-badge.svg\" alt=\"Open In Colab\"/></a>"
      ]
    },
    {
      "cell_type": "code",
      "execution_count": 1,
      "metadata": {
        "id": "2Isjtpl7MFYR"
      },
      "outputs": [],
      "source": [
        "def get_expenses():\n",
        "    \"\"\"\n",
        "    Prompts the user to enter expenses for five categories.\n",
        "    Ensures all inputs are non-negative numbers.\n",
        "    Returns a dictionary of category: expense.\n",
        "    \"\"\"\n",
        "    categories = ['housing', 'food', 'transportation', 'entertainment', 'utilities']\n",
        "    expenses = {}\n",
        "\n",
        "    for category in categories:\n",
        "        while True:\n",
        "            try:\n",
        "                value = float(input(f\"Enter your monthly expense for {category}: ₹\"))\n",
        "                if value < 0:\n",
        "                    print(\"Expense cannot be negative. Please try again.\")\n",
        "                    continue\n",
        "                expenses[category] = value\n",
        "                break\n",
        "            except ValueError:\n",
        "                print(\"Invalid input. Please enter a number.\")\n",
        "\n",
        "    return expenses"
      ]
    },
    {
      "cell_type": "code",
      "source": [
        "def calculate_total(expenses):\n",
        "    \"\"\"\n",
        "    Accepts the expenses dictionary and returns the total amount.\n",
        "    \"\"\"\n",
        "    total = 0\n",
        "    for amount in expenses.values():\n",
        "        total += amount\n",
        "    return total"
      ],
      "metadata": {
        "id": "z6OP5T5MMd0T"
      },
      "execution_count": 2,
      "outputs": []
    },
    {
      "cell_type": "code",
      "source": [
        "def analyze_expenses(expenses, total):\n",
        "    \"\"\"\n",
        "    Accepts the expenses dictionary and total amount.\n",
        "    Returns a new dictionary with percentage contributions.\n",
        "    \"\"\"\n",
        "    percentages = {}\n",
        "    for category, amount in expenses.items():\n",
        "        if total == 0:\n",
        "            percentages[category] = 0\n",
        "        else:\n",
        "            percentages[category] = (amount / total) * 100\n",
        "    return percentages"
      ],
      "metadata": {
        "id": "MxCglsDeMg-t"
      },
      "execution_count": 3,
      "outputs": []
    },
    {
      "cell_type": "code",
      "source": [
        "def display_report(expenses, percentages, total):\n",
        "    \"\"\"\n",
        "    Displays a formatted report of each category, its amount, and its percentage.\n",
        "    \"\"\"\n",
        "    print(\"\\n📊 Monthly Expense Report\")\n",
        "    print(\"-\" * 40)\n",
        "    print(f\"{'Category':<20}{'Amount (₹)':<12}{'% of Total'}\")\n",
        "    print(\"-\" * 40)\n",
        "    for category in expenses:\n",
        "        amount = expenses[category]\n",
        "        percent = percentages[category]\n",
        "        print(f\"{category.capitalize():<20}{amount:<12.2f}{percent:.2f}%\")\n",
        "    print(\"-\" * 40)\n",
        "    print(f\"{'Total':<20}{total:<12.2f}100.00%\")"
      ],
      "metadata": {
        "id": "FJLfZRoXMkIL"
      },
      "execution_count": 4,
      "outputs": []
    },
    {
      "cell_type": "code",
      "source": [
        "def main():\n",
        "    expenses = get_expenses()\n",
        "    total = calculate_total(expenses)\n",
        "    percentages = analyze_expenses(expenses, total)\n",
        "    display_report(expenses, percentages, total)"
      ],
      "metadata": {
        "id": "ra7utPNPM1Mb"
      },
      "execution_count": 5,
      "outputs": []
    },
    {
      "cell_type": "code",
      "source": [
        "# Run the program\n",
        "if __name__ == \"__main__\":\n",
        "    main()"
      ],
      "metadata": {
        "colab": {
          "base_uri": "https://localhost:8080/"
        },
        "id": "t0X_p1i3M4eg",
        "outputId": "f2ca4714-ec68-41f0-f797-1172624668c3"
      },
      "execution_count": 6,
      "outputs": [
        {
          "output_type": "stream",
          "name": "stdout",
          "text": [
            "Enter your monthly expense for housing: ₹84000\n",
            "Enter your monthly expense for food: ₹28000\n",
            "Enter your monthly expense for transportation: ₹28000\n",
            "Enter your monthly expense for entertainment: ₹28000\n",
            "Enter your monthly expense for utilities: ₹56000\n",
            "\n",
            "📊 Monthly Expense Report\n",
            "----------------------------------------\n",
            "Category            Amount (₹)  % of Total\n",
            "----------------------------------------\n",
            "Housing             84000.00    37.50%\n",
            "Food                28000.00    12.50%\n",
            "Transportation      28000.00    12.50%\n",
            "Entertainment       28000.00    12.50%\n",
            "Utilities           56000.00    25.00%\n",
            "----------------------------------------\n",
            "Total               224000.00   100.00%\n"
          ]
        }
      ]
    },
    {
      "cell_type": "code",
      "source": [],
      "metadata": {
        "id": "Q8sz2HzWM7n1"
      },
      "execution_count": null,
      "outputs": []
    }
  ]
}