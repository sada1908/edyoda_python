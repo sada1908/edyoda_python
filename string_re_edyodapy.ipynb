{
  "nbformat": 4,
  "nbformat_minor": 0,
  "metadata": {
    "colab": {
      "provenance": [],
      "authorship_tag": "ABX9TyMpW+oAy9czxpBbgZjVYwGI",
      "include_colab_link": true
    },
    "kernelspec": {
      "name": "python3",
      "display_name": "Python 3"
    },
    "language_info": {
      "name": "python"
    }
  },
  "cells": [
    {
      "cell_type": "markdown",
      "metadata": {
        "id": "view-in-github",
        "colab_type": "text"
      },
      "source": [
        "<a href=\"https://colab.research.google.com/github/sada1908/edyoda_python/blob/main/string_re_edyodapy.ipynb\" target=\"_parent\"><img src=\"https://colab.research.google.com/assets/colab-badge.svg\" alt=\"Open In Colab\"/></a>"
      ]
    },
    {
      "cell_type": "code",
      "execution_count": 1,
      "metadata": {
        "id": "NfNXR7FlcCXP"
      },
      "outputs": [],
      "source": [
        "import re"
      ]
    },
    {
      "cell_type": "code",
      "source": [
        "# 1. Sample Manuscript (multi-line string)\n",
        "manuscript = \"\"\"\n",
        "Lorem ipsum dolor sit amet, consectetur adipiscing elit. \"Sed do eiusmod tempor incididunt ut labore et dolore magna aliqua!\"\n",
        "Ut enim ad minim veniam, quis nostrud exercitation ullamco laboris nisi ut aliquip ex ea commodo consequat.\n",
        "\"Duis aute irure dolor in reprehenderit in voluptate velit esse cillum dolore eu fugiat nulla pariatur?\"\n",
        "Excepteur sint occaecat cupidatat non proident, sunt in culpa qui officia deserunt mollit anim id est laborum.\n",
        "Note: 20% of writers use @gmail & some use Outlook.\n",
        "\"\"\""
      ],
      "metadata": {
        "id": "EwjWxfPacD2o"
      },
      "execution_count": 2,
      "outputs": []
    },
    {
      "cell_type": "code",
      "source": [
        "# 2. word_stats function\n",
        "def word_stats(text):\n",
        "    total_chars = len(text)\n",
        "    words = re.findall(r'\\b\\w+\\b', text)\n",
        "    total_words = len(words)\n",
        "    sentences = re.split(r'[.!?]+', text)\n",
        "    sentences = [s.strip() for s in sentences if s.strip()]  # remove empty strings\n",
        "    total_sentences = len(sentences)\n",
        "    avg_word_length = round(sum(len(w) for w in words) / total_words, 2) if total_words > 0 else 0\n",
        "    return {\n",
        "        \"total_characters\": total_chars,\n",
        "        \"total_words\": total_words,\n",
        "        \"total_sentences\": total_sentences,\n",
        "        \"average_word_length\": avg_word_length\n",
        "    }"
      ],
      "metadata": {
        "id": "x2pON2ifcHPi"
      },
      "execution_count": 3,
      "outputs": []
    },
    {
      "cell_type": "code",
      "source": [
        "# 3. format_title function\n",
        "def format_title(title):\n",
        "    exclusions = {\"a\", \"an\", \"the\", \"and\", \"but\", \"or\", \"in\", \"on\", \"at\"}\n",
        "    words = title.lower().split()\n",
        "    formatted_words = []\n",
        "    for i, word in enumerate(words):\n",
        "        if i == 0 or word not in exclusions:\n",
        "            formatted_words.append(word.capitalize())\n",
        "        else:\n",
        "            formatted_words.append(word)\n",
        "    return ' '.join(formatted_words)"
      ],
      "metadata": {
        "id": "TGx6diPbcKTY"
      },
      "execution_count": 4,
      "outputs": []
    },
    {
      "cell_type": "code",
      "source": [
        "# 4. find_quotes function\n",
        "def find_quotes(text):\n",
        "    # This handles multiple quoted sections (non-nested) and preserves order\n",
        "    matches = re.findall(r'\"(.*?)\"', text)\n",
        "    return matches"
      ],
      "metadata": {
        "id": "Hqz0PclocNTF"
      },
      "execution_count": 5,
      "outputs": []
    },
    {
      "cell_type": "code",
      "source": [
        "# 5. replace_symbols function\n",
        "def replace_symbols(text):\n",
        "    replacements = {\n",
        "        \"@\": \"at\",\n",
        "        \"&\": \"and\",\n",
        "        \"%\": \"percent\"\n",
        "    }\n",
        "\n",
        "    def replace_symbol(match):\n",
        "        symbol = match.group(0)\n",
        "        word = replacements[symbol]\n",
        "        return word\n",
        "\n",
        "    # Use regex for all 3 symbols\n",
        "    return re.sub(r'[@&%]', replace_symbol, text)"
      ],
      "metadata": {
        "id": "4nKgkQq_cUkw"
      },
      "execution_count": 6,
      "outputs": []
    },
    {
      "cell_type": "code",
      "source": [
        "print(\"📌 Word Stats:\")\n",
        "print(word_stats(manuscript))\n"
      ],
      "metadata": {
        "colab": {
          "base_uri": "https://localhost:8080/"
        },
        "id": "i6RXjaP0cVOE",
        "outputId": "bde7520d-ec11-4f2e-cb08-4cc93dc93bcf"
      },
      "execution_count": 7,
      "outputs": [
        {
          "output_type": "stream",
          "name": "stdout",
          "text": [
            "📌 Word Stats:\n",
            "{'total_characters': 507, 'total_words': 78, 'total_sentences': 6, 'average_word_length': 5.21}\n"
          ]
        }
      ]
    },
    {
      "cell_type": "code",
      "source": [
        "print(\"\\n📌 Formatted Title:\")\n",
        "sample_title = \"the art of writing in the digital age\"\n",
        "print(format_title(sample_title))"
      ],
      "metadata": {
        "colab": {
          "base_uri": "https://localhost:8080/"
        },
        "id": "N290UUNEcYeB",
        "outputId": "70cf3dbd-34cd-44a1-d404-8bf1dd484745"
      },
      "execution_count": 8,
      "outputs": [
        {
          "output_type": "stream",
          "name": "stdout",
          "text": [
            "\n",
            "📌 Formatted Title:\n",
            "The Art Of Writing in the Digital Age\n"
          ]
        }
      ]
    },
    {
      "cell_type": "code",
      "source": [
        "\n",
        "print(\"\\n📌 Quotes Found:\")\n",
        "print(find_quotes(manuscript))"
      ],
      "metadata": {
        "colab": {
          "base_uri": "https://localhost:8080/"
        },
        "id": "9cdPQHzecbry",
        "outputId": "54d39141-8198-419b-bdb0-9c4d6c0632f9"
      },
      "execution_count": 9,
      "outputs": [
        {
          "output_type": "stream",
          "name": "stdout",
          "text": [
            "\n",
            "📌 Quotes Found:\n",
            "['Sed do eiusmod tempor incididunt ut labore et dolore magna aliqua!', 'Duis aute irure dolor in reprehenderit in voluptate velit esse cillum dolore eu fugiat nulla pariatur?']\n"
          ]
        }
      ]
    },
    {
      "cell_type": "code",
      "source": [
        "\n",
        "print(\"\\n📌 Replaced Symbols:\")\n",
        "print(replace_symbols(manuscript))"
      ],
      "metadata": {
        "colab": {
          "base_uri": "https://localhost:8080/"
        },
        "id": "LQo2YwQScexp",
        "outputId": "9d1c97a8-0dd3-49f7-c3a9-a2bd91543846"
      },
      "execution_count": 10,
      "outputs": [
        {
          "output_type": "stream",
          "name": "stdout",
          "text": [
            "\n",
            "📌 Replaced Symbols:\n",
            "\n",
            "Lorem ipsum dolor sit amet, consectetur adipiscing elit. \"Sed do eiusmod tempor incididunt ut labore et dolore magna aliqua!\" \n",
            "Ut enim ad minim veniam, quis nostrud exercitation ullamco laboris nisi ut aliquip ex ea commodo consequat. \n",
            "\"Duis aute irure dolor in reprehenderit in voluptate velit esse cillum dolore eu fugiat nulla pariatur?\" \n",
            "Excepteur sint occaecat cupidatat non proident, sunt in culpa qui officia deserunt mollit anim id est laborum. \n",
            "Note: 20percent of writers use atgmail and some use Outlook.\n",
            "\n"
          ]
        }
      ]
    },
    {
      "cell_type": "code",
      "source": [],
      "metadata": {
        "id": "rqB1ozE4ciYV"
      },
      "execution_count": null,
      "outputs": []
    }
  ]
}