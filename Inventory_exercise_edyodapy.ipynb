{
  "nbformat": 4,
  "nbformat_minor": 0,
  "metadata": {
    "colab": {
      "provenance": [],
      "authorship_tag": "ABX9TyNhIS/N6jOHPLXthIYb+o2U",
      "include_colab_link": true
    },
    "kernelspec": {
      "name": "python3",
      "display_name": "Python 3"
    },
    "language_info": {
      "name": "python"
    }
  },
  "cells": [
    {
      "cell_type": "markdown",
      "metadata": {
        "id": "view-in-github",
        "colab_type": "text"
      },
      "source": [
        "<a href=\"https://colab.research.google.com/github/sada1908/edyoda_python/blob/main/Inventory_exercise_edyodapy.ipynb\" target=\"_parent\"><img src=\"https://colab.research.google.com/assets/colab-badge.svg\" alt=\"Open In Colab\"/></a>"
      ]
    },
    {
      "cell_type": "code",
      "execution_count": 1,
      "metadata": {
        "id": "UH6a6cLFyx4p"
      },
      "outputs": [],
      "source": [
        "# Inventory Data\n",
        "products = [\"Apple\", \"Banana\", \"Milk\", \"Bread\", \"Eggs\"]\n",
        "quantities = [50, 8, 30, 60, 5]\n",
        "prices = [0.99, 0.50, 2.50, 1.75, 0.20]"
      ]
    },
    {
      "cell_type": "code",
      "source": [
        "# Function to find products with low stock (< 10)\n",
        "def low_stock_items(products, quantities):\n",
        "    return [product for product, qty in zip(products, quantities) if qty < 10]"
      ],
      "metadata": {
        "id": "SX-FSZCzy1Kc"
      },
      "execution_count": 2,
      "outputs": []
    },
    {
      "cell_type": "code",
      "source": [
        "# Function to calculate total inventory value\n",
        "def total_inventory_value(quantities, prices):\n",
        "    return sum([qty * price for qty, price in zip(quantities, prices)])"
      ],
      "metadata": {
        "id": "I36VOoaUy5wE"
      },
      "execution_count": 3,
      "outputs": []
    },
    {
      "cell_type": "code",
      "source": [
        "# Function to apply 10% discount to products with quantity > 50\n",
        "def add_discount(quantities, prices):\n",
        "    return [round(price * 0.9, 2) if qty > 50 else price for qty, price in zip(quantities, prices)]"
      ],
      "metadata": {
        "id": "ilUPkRQny9hC"
      },
      "execution_count": 5,
      "outputs": []
    },
    {
      "cell_type": "code",
      "source": [
        "# --- Testing the functions ---\n",
        "print(\"📦 Low Stock Items:\", low_stock_items(products, quantities))\n",
        "print(\"💰 Total Inventory Value: $\", total_inventory_value(quantities, prices))\n",
        "print(\"🏷️ Discounted Prices:\", list(zip(products,add_discount(quantities, prices))))"
      ],
      "metadata": {
        "colab": {
          "base_uri": "https://localhost:8080/"
        },
        "id": "Qj3hLQNyzG4M",
        "outputId": "fd4186c4-2768-4f17-c2e7-66697bee1483"
      },
      "execution_count": 9,
      "outputs": [
        {
          "output_type": "stream",
          "name": "stdout",
          "text": [
            "📦 Low Stock Items: ['Banana', 'Eggs']\n",
            "💰 Total Inventory Value: $ 234.5\n",
            "🏷️ Discounted Prices: [('Apple', 0.99), ('Banana', 0.5), ('Milk', 2.5), ('Bread', 1.57), ('Eggs', 0.2)]\n"
          ]
        }
      ]
    },
    {
      "cell_type": "code",
      "source": [],
      "metadata": {
        "id": "nMPjH7wlzLGs"
      },
      "execution_count": null,
      "outputs": []
    }
  ]
}