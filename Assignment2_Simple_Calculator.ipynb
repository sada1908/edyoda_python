{
 "cells": [
  {
   "cell_type": "markdown",
   "id": "19d3c207",
   "metadata": {},
   "source": [
    "# 🧮 Assignment 2: Building a Simple Calculator\n",
    "\n",
    "### ✅ Objective\n",
    "Create a basic calculator program using Python that performs arithmetic operations and handles user input."
   ]
  },
  {
   "cell_type": "markdown",
   "id": "e7747c95",
   "metadata": {},
   "source": [
    "## 📄 calculator.py\n",
    "**Purpose:** Demonstrates fundamental Python operations, user input, arithmetic processing, and basic error handling.\n",
    "\n",
    "The code below is what you would include in `calculator.py`."
   ]
  },
  {
   "cell_type": "code",
   "execution_count": null,
   "id": "122e5b39",
   "metadata": {},
   "outputs": [],
   "source": [
    "\"\"\"\n",
    "calculator.py\n",
    "A simple calculator that performs addition, subtraction, multiplication, and division\n",
    "on two numbers input by the user.\n",
    "\"\"\"\n",
    "\n",
    "# Collect user input and convert to float\n",
    "try:\n",
    "    num1 = float(input(\"Enter first number: \"))\n",
    "    num2 = float(input(\"Enter second number: \"))\n",
    "\n",
    "    # Perform operations\n",
    "    sum_result = num1 + num2\n",
    "    diff_result = num1 - num2\n",
    "    product_result = num1 * num2\n",
    "\n",
    "    if num2 != 0:\n",
    "        division_result = num1 / num2\n",
    "    else:\n",
    "        division_result = \"Cannot divide by zero\"\n",
    "\n",
    "    # Display results\n",
    "    print(f\"{num1} + {num2} = {sum_result}\")\n",
    "    print(f\"{num1} - {num2} = {diff_result}\")\n",
    "    print(f\"{num1} * {num2} = {product_result}\")\n",
    "    print(f\"{num1} / {num2} = {division_result}\")\n",
    "\n",
    "except ValueError:\n",
    "    print(\"Invalid input! Please enter numeric values.\")\n"
   ]
  },
  {
   "cell_type": "markdown",
   "id": "116d5932",
   "metadata": {},
   "source": [
    "## ✅ How to Run This in GitHub Codespaces\n",
    "1. Go to your GitHub repository: `edyofa_python`.\n",
    "2. If not already enabled, click the green **Code** button > **Codespaces** > **Create codespace on main**.\n",
    "3. Once Codespaces opens in the browser, find the file `calculator.py` (or create it and paste the code).\n",
    "4. Open the integrated terminal in Codespaces.\n",
    "5. Run the program with:\n",
    "```bash\n",
    "python3 calculator.py\n",
    "```\n",
    "6. Enter two numbers when prompted to see the output.\n",
    "\n",
    "**Tip:** If you're using Jupyter Notebook inside Codespaces, you can also create a `.ipynb` file and paste the same code into a cell."
   ]
  }
 ],
 "metadata": {},
 "nbformat": 4,
 "nbformat_minor": 5
}
