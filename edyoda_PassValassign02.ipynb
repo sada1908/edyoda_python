{
 "cells": [
  {
   "cell_type": "code",
   "execution_count": null,
   "id": "1a4f516d",
   "metadata": {},
   "outputs": [],
   "source": [
    "def validate_password():\n",
    "\tspecial_characters = \"!@#$%^&*\"\n",
    "\twhile True:\n",
    "\t\tpassword = input(\"Enter your password: \")\n",
    "\t\terrors = []\n",
    "\n",
    "\t\tif len(password) < 8:\n",
    "\t\t\terrors.append(\"Password must be at least 8 characters long.\")\n",
    "\t\tif not re.search(r'[A-Z]', password):\n",
    "\t\t\terrors.append(\"Password must contain at least one uppercase letter.\")\n",
    "\t\tif not re.search(r'[a-z]', password):\n",
    "\t\t\terrors.append(\"Password must contain at least one lowercase letter.\")\n",
    "\t\tif not re.search(r'\\d', password):\n",
    "\t\t\terrors.append(\"Password must contain at least one digit.\")\n",
    "\t\tif not any(char in special_characters for char in password):\n",
    "\t\t\terrors.append(\"Password must contain at least one special character (!@#$%^&*).\")\n",
    "\n",
    "\t\tif errors:\n",
    "\t\t\tprint(\"Please address the following issues:\")\n",
    "\t\t\tfor error in errors:\n",
    "\t\t\t\tprint(\"-\", error)\n",
    "\t\telse:\n",
    "\t\t\tprint(\"Password is valid!\")\n",
    "\t\t\treturn password\n"
   ]
  },
  {
   "cell_type": "code",
   "execution_count": 11,
   "id": "be6d1236",
   "metadata": {},
   "outputs": [],
   "source": [
    "import re"
   ]
  },
  {
   "cell_type": "code",
   "execution_count": 12,
   "id": "47b10266",
   "metadata": {},
   "outputs": [
    {
     "name": "stdout",
     "output_type": "stream",
     "text": [
      "Please address the following issues:\n",
      "- Password must be at least 8 characters long.\n",
      "- Password must contain at least one uppercase letter.\n",
      "- Password must contain at least one special character (!@#$%^&*).\n",
      "Password is valid!\n"
     ]
    }
   ],
   "source": [
    "if __name__ == \"__main__\":\n",
    "    validate_password()"
   ]
  },
  {
   "cell_type": "code",
   "execution_count": null,
   "id": "4041d815",
   "metadata": {},
   "outputs": [],
   "source": []
  },
  {
   "cell_type": "code",
   "execution_count": null,
   "id": "4e2769d3",
   "metadata": {},
   "outputs": [],
   "source": []
  }
 ],
 "metadata": {
  "kernelspec": {
   "display_name": ".venv",
   "language": "python",
   "name": "python3"
  },
  "language_info": {
   "codemirror_mode": {
    "name": "ipython",
    "version": 3
   },
   "file_extension": ".py",
   "mimetype": "text/x-python",
   "name": "python",
   "nbconvert_exporter": "python",
   "pygments_lexer": "ipython3",
   "version": "3.12.0"
  }
 },
 "nbformat": 4,
 "nbformat_minor": 5
}
