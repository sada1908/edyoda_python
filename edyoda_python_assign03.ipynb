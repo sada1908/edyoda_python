{
  "nbformat": 4,
  "nbformat_minor": 0,
  "metadata": {
    "colab": {
      "provenance": []
    },
    "kernelspec": {
      "name": "python3",
      "display_name": "Python 3"
    },
    "language_info": {
      "name": "python"
    }
  },
  "cells": [
    {
      "cell_type": "code",
      "source": [
        "\"\"\"\n",
        "This program processes basic customer information using various string operations.\n",
        "It takes names as input, formats them, and generates a customer ID.\n",
        "\"\"\""
      ],
      "metadata": {
        "colab": {
          "base_uri": "https://localhost:8080/",
          "height": 53
        },
        "id": "5GSUyeCNDdI1",
        "outputId": "6c3188b8-d4f1-4484-d960-92bcc5ddacf1"
      },
      "execution_count": 19,
      "outputs": [
        {
          "output_type": "execute_result",
          "data": {
            "text/plain": [
              "'\\nThis program processes basic customer information using various string operations.\\nIt takes names as input, formats them, and generates a customer ID.\\n'"
            ],
            "application/vnd.google.colaboratory.intrinsic+json": {
              "type": "string"
            }
          },
          "metadata": {},
          "execution_count": 19
        }
      ]
    },
    {
      "cell_type": "markdown",
      "source": [
        "##**Scenario**\n",
        "Your company needs a program to process basic customer information. The program should demonstrate various string operations to format and display customer data properly.\n",
        "\n",
        "###**Objectives**\n",
        "Practice basic string operations\n",
        "Format strings for display\n",
        "Combine multiple string methods"
      ],
      "metadata": {
        "id": "PG6OA6vp9izi"
      }
    },
    {
      "cell_type": "code",
      "source": [
        "from IPython import get_ipython\n",
        "from IPython.display import display"
      ],
      "metadata": {
        "id": "NgQ0L2yfDhNf"
      },
      "execution_count": 20,
      "outputs": []
    },
    {
      "cell_type": "code",
      "source": [
        "# get inputs of strings of a name and make it a list\n",
        "# Initialize an empty list to store names."
      ],
      "metadata": {
        "id": "LFziASztDvov"
      },
      "execution_count": 21,
      "outputs": []
    },
    {
      "cell_type": "code",
      "source": [
        "list = []\n",
        "while True:\n",
        "  # get input from the user\n",
        "  string = input(\"Enter the name of teh entity : \")\n",
        "  # Break the loop if the input is an empty string.\n",
        "  if string == \"\":\n",
        "    break\n",
        "  else:\n",
        "    # Append the input name to the list.\n",
        "    list.append(string)"
      ],
      "metadata": {
        "colab": {
          "base_uri": "https://localhost:8080/"
        },
        "id": "NlVf-OKD9v4P",
        "outputId": "224af529-0427-4b85-eca6-7b5692ef113d"
      },
      "execution_count": 8,
      "outputs": [
        {
          "name": "stdout",
          "output_type": "stream",
          "text": [
            "Enter the name of teh entity : john\n",
            "Enter the name of teh entity : doe\n",
            "Enter the name of teh entity : john.doe@gmail.com\n",
            "Enter the name of teh entity : \n"
          ]
        }
      ]
    },
    {
      "cell_type": "code",
      "source": [
        "print(list)"
      ],
      "metadata": {
        "colab": {
          "base_uri": "https://localhost:8080/"
        },
        "id": "x1pX2YO3-Tv2",
        "outputId": "2b4474d1-3805-49dd-e3d9-b457acd444de"
      },
      "execution_count": 9,
      "outputs": [
        {
          "output_type": "stream",
          "name": "stdout",
          "text": [
            "['john', 'doe', 'john.doe@gmail.com']\n"
          ]
        }
      ]
    },
    {
      "cell_type": "code",
      "source": [
        "# Iterate through the list of names.\n",
        "for i in range(len(list)):\n",
        "  # Check if the name does not contain \"@\".\n",
        "  if \"@\" not in list[i]:\n",
        "    # Capitalize the first letter of each word in the name.\n",
        "    list[i] = list[i].title()\n",
        "\n",
        "print(list)"
      ],
      "metadata": {
        "colab": {
          "base_uri": "https://localhost:8080/"
        },
        "id": "cEAJ8DLm-4-Q",
        "outputId": "0bbdcd66-ea03-4a4f-bb23-3bfc45ca273f"
      },
      "execution_count": 10,
      "outputs": [
        {
          "output_type": "stream",
          "name": "stdout",
          "text": [
            "['John', 'Doe', 'john.doe@gmail.com']\n"
          ]
        }
      ]
    },
    {
      "cell_type": "code",
      "source": [
        "# find posiiton of \"@\" in he first instance of element containing it\n",
        "for i in range(len(list)):\n",
        "  if \"@\" in list[i]:\n",
        "    position = list[i].find(\"@\")\n",
        "    rank = i\n",
        "print(position)\n",
        "print(rank)"
      ],
      "metadata": {
        "colab": {
          "base_uri": "https://localhost:8080/"
        },
        "id": "_QDEWJ1p_zy2",
        "outputId": "475e2044-2d1b-482d-8f93-bec6810d2b3b"
      },
      "execution_count": 11,
      "outputs": [
        {
          "output_type": "stream",
          "name": "stdout",
          "text": [
            "8\n",
            "2\n"
          ]
        }
      ]
    },
    {
      "cell_type": "code",
      "source": [
        "# create a customer ID\n",
        "first = list[1].upper()\n",
        "second = len(list[0])\n",
        "third = list[2][position+1:position+4].lower()\n",
        "customer_id = first + str(second) + third\n",
        "print(customer_id)"
      ],
      "metadata": {
        "colab": {
          "base_uri": "https://localhost:8080/"
        },
        "id": "2TxK8W4sBigL",
        "outputId": "c6afdc22-38e9-435b-f536-aa1783ffbead"
      },
      "execution_count": 18,
      "outputs": [
        {
          "output_type": "stream",
          "name": "stdout",
          "text": [
            "DOE4gma\n"
          ]
        }
      ]
    },
    {
      "cell_type": "code",
      "source": [
        "# Add a docstring explaining the program's purpose and use comments to explain each string operation. Ensure your code follows PEP 8 guidelines.\n"
      ],
      "metadata": {
        "id": "181FjWU-CMzq"
      },
      "execution_count": null,
      "outputs": []
    }
  ]
}