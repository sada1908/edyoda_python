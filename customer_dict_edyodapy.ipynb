{
  "nbformat": 4,
  "nbformat_minor": 0,
  "metadata": {
    "colab": {
      "provenance": [],
      "authorship_tag": "ABX9TyPKQM7UAKtNMxc71b1J84cl",
      "include_colab_link": true
    },
    "kernelspec": {
      "name": "python3",
      "display_name": "Python 3"
    },
    "language_info": {
      "name": "python"
    }
  },
  "cells": [
    {
      "cell_type": "markdown",
      "metadata": {
        "id": "view-in-github",
        "colab_type": "text"
      },
      "source": [
        "<a href=\"https://colab.research.google.com/github/sada1908/edyoda_python/blob/main/customer_dict_edyodapy.ipynb\" target=\"_parent\"><img src=\"https://colab.research.google.com/assets/colab-badge.svg\" alt=\"Open In Colab\"/></a>"
      ]
    },
    {
      "cell_type": "code",
      "execution_count": 1,
      "metadata": {
        "id": "_WRfq6Id6ug3"
      },
      "outputs": [],
      "source": [
        "# 🗃️ Initial Customer Database\n",
        "customer_db = {\n",
        "    \"C1001\": {\n",
        "        \"name\": \"Alice\",\n",
        "        \"email\": \"alice@example.com\",\n",
        "        \"purchase_history\": {101, 205, 308},\n",
        "        \"loyalty_points\": 1500\n",
        "    },\n",
        "    \"C1002\": {\n",
        "        \"name\": \"Bob\",\n",
        "        \"email\": \"bob@example.com\",\n",
        "        \"purchase_history\": {205, 309},\n",
        "        \"loyalty_points\": 950\n",
        "    },\n",
        "    \"C1003\": {\n",
        "        \"name\": \"Charlie\",\n",
        "        \"email\": \"charlie@example.com\",\n",
        "        \"purchase_history\": {101, 405, 501},\n",
        "        \"loyalty_points\": 2000\n",
        "    },\n",
        "    \"C1004\": {\n",
        "        \"name\": \"David\",\n",
        "        \"email\": \"david@example.com\",\n",
        "        \"purchase_history\": {205, 405},\n",
        "        \"loyalty_points\": 850\n",
        "    },\n",
        "    \"C1005\": {\n",
        "        \"name\": \"Eva\",\n",
        "        \"email\": \"eva@example.com\",\n",
        "        \"purchase_history\": {101, 308, 501},\n",
        "        \"loyalty_points\": 1250\n",
        "    }\n",
        "}\n"
      ]
    },
    {
      "cell_type": "code",
      "source": [
        "def add_purchase(customer_id, product_id):\n",
        "    if customer_id in customer_db:\n",
        "        customer_db[customer_id][\"purchase_history\"].add(product_id)\n",
        "        return f\"✅ Product {product_id} added to {customer_db[customer_id]['name']}'s purchase history.\"\n",
        "    else:\n",
        "        return \"❌ Customer ID not found.\""
      ],
      "metadata": {
        "id": "9GnXyuCy63bD"
      },
      "execution_count": 2,
      "outputs": []
    },
    {
      "cell_type": "code",
      "source": [
        "def common_products(cust_id1, cust_id2):\n",
        "    if cust_id1 in customer_db and cust_id2 in customer_db:\n",
        "        return customer_db[cust_id1][\"purchase_history\"].intersection(customer_db[cust_id2][\"purchase_history\"])\n",
        "    else:\n",
        "        return \"❌ One or both customer IDs not found.\""
      ],
      "metadata": {
        "id": "Eaenyrff66bj"
      },
      "execution_count": 3,
      "outputs": []
    },
    {
      "cell_type": "code",
      "source": [
        "def top_customers():\n",
        "    return {\n",
        "        data[\"name\"]: data[\"loyalty_points\"]\n",
        "        for data in customer_db.values()\n",
        "        if data[\"loyalty_points\"] > 1000\n",
        "    }"
      ],
      "metadata": {
        "id": "A4tKLBt769UA"
      },
      "execution_count": 4,
      "outputs": []
    },
    {
      "cell_type": "code",
      "source": [
        "def unique_products():\n",
        "    all_products = set()\n",
        "    for customer in customer_db.values():\n",
        "        all_products.update(customer[\"purchase_history\"])\n",
        "    return all_products"
      ],
      "metadata": {
        "id": "Wy2aFVCS7BKk"
      },
      "execution_count": 5,
      "outputs": []
    },
    {
      "cell_type": "code",
      "source": [
        "# Test 1: Add Purchase\n",
        "print(add_purchase(\"C1001\", 999))"
      ],
      "metadata": {
        "colab": {
          "base_uri": "https://localhost:8080/"
        },
        "id": "MWq_egkK7FXB",
        "outputId": "f4fe1681-bf0a-460f-8d85-51c76add2b61"
      },
      "execution_count": 6,
      "outputs": [
        {
          "output_type": "stream",
          "name": "stdout",
          "text": [
            "✅ Product 999 added to Alice's purchase history.\n"
          ]
        }
      ]
    },
    {
      "cell_type": "code",
      "source": [
        "# Test 2: Common Products\n",
        "print(\"🛒 Common Products between C1001 and C1005:\", common_products(\"C1001\", \"C1005\"))"
      ],
      "metadata": {
        "colab": {
          "base_uri": "https://localhost:8080/"
        },
        "id": "l5iMW4817H0w",
        "outputId": "0f41e879-624f-4494-8876-44bd20e03e4a"
      },
      "execution_count": 7,
      "outputs": [
        {
          "output_type": "stream",
          "name": "stdout",
          "text": [
            "🛒 Common Products between C1001 and C1005: {308, 101}\n"
          ]
        }
      ]
    },
    {
      "cell_type": "code",
      "source": [
        "\n",
        "# Test 3: Top Customers\n",
        "print(\"🏅 Top Customers:\", top_customers())"
      ],
      "metadata": {
        "colab": {
          "base_uri": "https://localhost:8080/"
        },
        "id": "AYJOnuux7KgI",
        "outputId": "3f50a1a5-17b5-4f55-c919-9675a41eb46e"
      },
      "execution_count": 8,
      "outputs": [
        {
          "output_type": "stream",
          "name": "stdout",
          "text": [
            "🏅 Top Customers: {'Alice': 1500, 'Charlie': 2000, 'Eva': 1250}\n"
          ]
        }
      ]
    },
    {
      "cell_type": "code",
      "source": [
        "# Test 4: Unique Products\n",
        "print(\"📦 Unique Products Purchased:\", unique_products())"
      ],
      "metadata": {
        "colab": {
          "base_uri": "https://localhost:8080/"
        },
        "id": "_GZit5m57Nq0",
        "outputId": "f22e7faf-3a8a-4c4f-c389-0380bcdfdc9b"
      },
      "execution_count": 9,
      "outputs": [
        {
          "output_type": "stream",
          "name": "stdout",
          "text": [
            "📦 Unique Products Purchased: {101, 999, 205, 308, 309, 501, 405}\n"
          ]
        }
      ]
    },
    {
      "cell_type": "code",
      "source": [],
      "metadata": {
        "id": "sPFysh9Z7VEq"
      },
      "execution_count": null,
      "outputs": []
    }
  ]
}