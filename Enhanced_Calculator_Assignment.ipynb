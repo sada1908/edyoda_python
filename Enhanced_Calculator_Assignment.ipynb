{
 "cells": [
  {
   "cell_type": "markdown",
   "id": "b71dc83a",
   "metadata": {},
   "source": [
    "# 🧮 Enhanced Calculator: Multiple Operations with Selection\n",
    "\n",
    "This version of the calculator allows users to choose from a list of operations: addition, subtraction, multiplication, exponentiation, modulo, and floor division."
   ]
  },
  {
   "cell_type": "code",
   "execution_count": 2,
   "id": "e7327cd1",
   "metadata": {},
   "outputs": [
    {
     "name": "stdout",
     "output_type": "stream",
     "text": [
      "Welcome to the Python Calculator!\n",
      "Select an operator from the list below:\n",
      "Available operations: +, -, *, **, /, %, //\n",
      "23.0 / 6.0 = 3.8333333333333335\n"
     ]
    }
   ],
   "source": [
    "\"\"\"\n",
    "enhanced_calculator.py\n",
    "A simple calculator that lets the user select from multiple operations:\n",
    "+ (addition), - (subtraction), * (multiplication), ** (power), % (modulo), // (floor division)\n",
    "\"\"\"\n",
    "\n",
    "# Supported operators\n",
    "operator_list = ['+', '-', '*', '**', '/','%', '//']\n",
    "\n",
    "# Display operator options\n",
    "print(\"Welcome to the Python Calculator!\")\n",
    "print(\"Select an operator from the list below:\")\n",
    "print(\"Available operations: \" + \", \".join(operator_list))\n",
    "\n",
    "# Get user input\n",
    "while True:\n",
    "    try:\n",
    "        num1 = float(input(\"Enter first number: \"))\n",
    "        operator = input(\"Enter operator (+, -, *, **, %, //): \")\n",
    "        num2 = float(input(\"Enter second number: \"))\n",
    "\n",
    "        # Handle division/modulo by zero\n",
    "        if operator in ['/','%', '//'] and num2 == 0:\n",
    "            print(\"Cannot divide or modulo by zero.\")\n",
    "            continue\n",
    "\n",
    "        # Perform operation\n",
    "        if operator == '+':\n",
    "            result = num1 + num2\n",
    "        elif operator == '-':\n",
    "            result = num1 - num2\n",
    "        elif operator == '*':\n",
    "            result = num1 * num2\n",
    "        elif operator == '**':\n",
    "            result = num1 ** num2\n",
    "        elif operator == '/':\n",
    "            result = num1/num2\n",
    "        elif operator == '%':\n",
    "            result = num1 % num2\n",
    "        elif operator == '//':\n",
    "            result = num1 // num2\n",
    "        else:\n",
    "            result = \"Invalid operator selected.\"\n",
    "\n",
    "        \n",
    "        \n",
    "        print(f\"{num1} {operator} {num2} = {result}\")\n",
    "        break\n",
    "\n",
    "    except ValueError:\n",
    "        print(\"Invalid input! Please enter numeric values.\")\n",
    "\n",
    "    \n"
   ]
  }
 ],
 "metadata": {
  "kernelspec": {
   "display_name": "Python 3",
   "language": "python",
   "name": "python3"
  },
  "language_info": {
   "codemirror_mode": {
    "name": "ipython",
    "version": 3
   },
   "file_extension": ".py",
   "mimetype": "text/x-python",
   "name": "python",
   "nbconvert_exporter": "python",
   "pygments_lexer": "ipython3",
   "version": "3.12.1"
  }
 },
 "nbformat": 4,
 "nbformat_minor": 5
}
