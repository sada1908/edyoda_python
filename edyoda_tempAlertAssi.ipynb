{
 "cells": [
  {
   "cell_type": "code",
   "execution_count": 2,
   "id": "fadf99a1",
   "metadata": {
    "vscode": {
     "languageId": "markdown"
    }
   },
   "outputs": [],
   "source": [
    "def temperature_alert_system(temperature):\n",
    "    if not isinstance(temperature, (int, float)):\n",
    "        return \"Invalid input! Please enter a numeric temperature value.\"\n",
    "\n",
    "    if temperature < 0:\n",
    "        return \"Extreme cold warning! Temperature is below freezing.\"\n",
    "    elif temperature > 40:\n",
    "        return \"Extreme heat warning! Temperature is above safe limits.\"\n",
    "    elif temperature < 15:\n",
    "        return \"Cold warning! Temperature is low.\"\n",
    "    elif temperature == 15 or temperature == 25:\n",
    "        return \"Temperature is at threshold.\"\n",
    "    elif 15 < temperature < 25:\n",
    "        return \"Conditions are comfortable.\"\n",
    "    else:  # This covers temperatures above 25\n",
    "        return \"Heat warning! Temperature is high.\"\n"
   ]
  },
  {
   "cell_type": "code",
   "execution_count": 5,
   "id": "7ac4ac18",
   "metadata": {},
   "outputs": [
    {
     "name": "stdout",
     "output_type": "stream",
     "text": [
      "You entered: 25 °C\n"
     ]
    }
   ],
   "source": [
    "temp_input = input(\"Enter a temperature in Celsius: \")\n",
    "print(f\"You entered: {temp_input} °C\")\n"
   ]
  },
  {
   "cell_type": "code",
   "execution_count": 6,
   "id": "400ec833",
   "metadata": {},
   "outputs": [
    {
     "name": "stdout",
     "output_type": "stream",
     "text": [
      "Temperature is at threshold.\n"
     ]
    }
   ],
   "source": [
    "# Convert temp_input to float and run temperature_alert_system\n",
    "result = temperature_alert_system(float(temp_input))\n",
    "print(result)"
   ]
  }
 ],
 "metadata": {
  "kernelspec": {
   "display_name": ".venv",
   "language": "python",
   "name": "python3"
  },
  "language_info": {
   "codemirror_mode": {
    "name": "ipython",
    "version": 3
   },
   "file_extension": ".py",
   "mimetype": "text/x-python",
   "name": "python",
   "nbconvert_exporter": "python",
   "pygments_lexer": "ipython3",
   "version": "3.12.0"
  }
 },
 "nbformat": 4,
 "nbformat_minor": 5
}
