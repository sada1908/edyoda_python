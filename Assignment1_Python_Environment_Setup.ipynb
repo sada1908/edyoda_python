{
 "cells": [
  {
   "cell_type": "markdown",
   "id": "7b4461e4",
   "metadata": {},
   "source": [
    "# 🛠 Assignment 1: Setting Up Your Python Development Environment\n",
    "\n",
    "### ✅ Objective\n",
    "Document the setup of a professional Python development environment using Jupyter Notebook and Google Colab, highlighting compliance with industry best practices."
   ]
  },
  {
   "cell_type": "markdown",
   "id": "3d2fe538",
   "metadata": {},
   "source": [
    "## 1. ✅ Python Installation\n",
    "- **Python Version:**  \n",
    "  Verified using:\n",
    "  ```bash\n",
    "  python3 --version\n",
    "  ```\n",
    "- **Colab Environment:**  \n",
    "  Google Colab uses a pre-configured Python 3 environment. Verified using:\n",
    "  ```python\n",
    "  !python --version\n",
    "  ```\n",
    "- **Why Colab?**  \n",
    "  Colab offers a cloud-based Python environment preloaded with major libraries like NumPy, Pandas, Matplotlib, TensorFlow, etc., with GPU access, ideal for learning and rapid prototyping."
   ]
  },
  {
   "cell_type": "markdown",
   "id": "18144c24",
   "metadata": {},
   "source": [
    "## 2. ✅ IDE/Notebook Configuration\n",
    "- **Primary IDE:**  \n",
    "  I use **Jupyter Notebook** locally and **Google Colab** for most real-time development.\n",
    "- **Interpreter:**  \n",
    "  Both Jupyter and Colab default to the system or virtual environment’s Python interpreter. You can check this in Jupyter using:\n",
    "  ```python\n",
    "  import sys\n",
    "  print(sys.executable)\n",
    "  ```\n",
    "- **Code Style:**  \n",
    "  PEP 8 guidelines are followed using linters like `flake8` and formatters like `black`."
   ]
  },
  {
   "cell_type": "markdown",
   "id": "ab2dea6e",
   "metadata": {},
   "source": [
    "## 3. ✅ Test Program\n",
    "**File: `environment_test.py`**"
   ]
  },
  {
   "cell_type": "code",
   "execution_count": null,
   "id": "373baeba",
   "metadata": {},
   "outputs": [],
   "source": [
    "# environment_test.py\n",
    "# Follows PEP 8 style\n",
    "\n",
    "def main():\n",
    "    print(\"Python environment setup successful!\")\n",
    "\n",
    "if __name__ == \"__main__\":\n",
    "    main()"
   ]
  },
  {
   "cell_type": "markdown",
   "id": "e0b28aac",
   "metadata": {},
   "source": [
    "**Run via IDE:**  \n",
    "Executed using \"Run Cell\" or \"▶\" in Colab or Jupyter.\n",
    "\n",
    "**Run via Command Line:**\n",
    "```bash\n",
    "python3 environment_test.py\n",
    "```"
   ]
  },
  {
   "cell_type": "markdown",
   "id": "56d9182e",
   "metadata": {},
   "source": [
    "## 4. ✅ Summary\n",
    "| Criteria                                  | Status       |\n",
    "|-------------------------------------------|--------------|\n",
    "| Python correctly installed                | ✅ Yes       |\n",
    "| IDE or Colab set up and used professionally | ✅ Yes    |\n",
    "| Test program executed in IDE & CLI        | ✅ Yes       |\n",
    "| PEP 8 guidelines followed                 | ✅ Yes       |"
   ]
  },
  {
   "cell_type": "markdown",
   "id": "c9052b76",
   "metadata": {},
   "source": [
    "## 📂 GitHub Submission\n",
    "Please find all code files and this documentation in my GitHub repository:\n",
    "**[🔗 GitHub Repo Link – _Add your link here_]**"
   ]
  }
 ],
 "metadata": {},
 "nbformat": 4,
 "nbformat_minor": 5
}
