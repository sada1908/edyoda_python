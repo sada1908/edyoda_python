{
  "nbformat": 4,
  "nbformat_minor": 0,
  "metadata": {
    "colab": {
      "provenance": [],
      "authorship_tag": "ABX9TyMx8jXteRF5j8AZYlsVzhD5",
      "include_colab_link": true
    },
    "kernelspec": {
      "name": "python3",
      "display_name": "Python 3"
    },
    "language_info": {
      "name": "python"
    }
  },
  "cells": [
    {
      "cell_type": "markdown",
      "metadata": {
        "id": "view-in-github",
        "colab_type": "text"
      },
      "source": [
        "<a href=\"https://colab.research.google.com/github/sada1908/edyoda_python/blob/main/student_grades_edyodapy.ipynb\" target=\"_parent\"><img src=\"https://colab.research.google.com/assets/colab-badge.svg\" alt=\"Open In Colab\"/></a>"
      ]
    },
    {
      "cell_type": "code",
      "execution_count": 1,
      "metadata": {
        "id": "gSUw8Kjz0_Zn"
      },
      "outputs": [],
      "source": [
        "# Immutable student data using nested tuples\n",
        "student_data = (\n",
        "    (101, \"Alice\", (90, 85, 92)),\n",
        "    (102, \"Bob\", (78, 88, 84)),\n",
        "    (103, \"Charlie\", (95, 91, 89)),\n",
        "    (104, \"Diana\", (65, 70, 72)),\n",
        "    (105, \"Ethan\", (88, 76, 90))\n",
        ")"
      ]
    },
    {
      "cell_type": "code",
      "source": [
        "# 1. Get top student by average grade\n",
        "def get_top_student(data):\n",
        "    top_name = \"\"\n",
        "    top_avg = 0.0\n",
        "    for student in data:\n",
        "        grades = student[2]\n",
        "        avg = sum(grades) / len(grades)\n",
        "        if avg > top_avg:\n",
        "            top_avg = avg\n",
        "            top_name = student[1]\n",
        "    return top_name, round(top_avg, 2)"
      ],
      "metadata": {
        "id": "VN0oucCo1DnZ"
      },
      "execution_count": 2,
      "outputs": []
    },
    {
      "cell_type": "code",
      "source": [
        "# 2. Get all grades for a given subject index\n",
        "def get_subject_grades(data, subject_index):\n",
        "\n",
        "    return tuple(student[2][subject_index] for student in data)"
      ],
      "metadata": {
        "id": "Il2OqMu91GUB"
      },
      "execution_count": 3,
      "outputs": []
    },
    {
      "cell_type": "code",
      "source": [
        "# 3. Grade summary: (highest, lowest, average)\n",
        "def grade_summary(data):\n",
        "    all_grades = [grade for student in data for grade in student[2]]\n",
        "    print(all_grades)\n",
        "    highest = max(all_grades)\n",
        "    lowest = min(all_grades)\n",
        "    average = sum(all_grades) / len(all_grades)\n",
        "    return (highest, lowest, round(average, 2))"
      ],
      "metadata": {
        "id": "ue6IG8kq1JNq"
      },
      "execution_count": 16,
      "outputs": []
    },
    {
      "cell_type": "code",
      "source": [],
      "metadata": {
        "id": "bqW94D2U168c"
      },
      "execution_count": null,
      "outputs": []
    },
    {
      "cell_type": "code",
      "source": [
        "topper, top_avg = get_top_student(student_data)\n",
        "print(f\"Top Student: {topper}, Average Grade: {top_avg}\")"
      ],
      "metadata": {
        "colab": {
          "base_uri": "https://localhost:8080/"
        },
        "id": "yAkT91T01L79",
        "outputId": "029dad9f-0f7e-4054-f224-3ee86d6b10d7"
      },
      "execution_count": 5,
      "outputs": [
        {
          "output_type": "stream",
          "name": "stdout",
          "text": [
            "Top Student: Charlie, Average Grade: 91.67\n"
          ]
        }
      ]
    },
    {
      "cell_type": "code",
      "source": [
        "grades_subject = 0\n",
        "subject_grades = get_subject_grades(student_data, grades_subject)\n",
        "\n",
        "print(f\"Grades for Subject {grades_subject}: {subject_grades}\")"
      ],
      "metadata": {
        "colab": {
          "base_uri": "https://localhost:8080/"
        },
        "id": "L7W7LAQn1ayU",
        "outputId": "cddcecea-7c7b-4488-e7e9-8219b4de592c"
      },
      "execution_count": 10,
      "outputs": [
        {
          "output_type": "stream",
          "name": "stdout",
          "text": [
            "Grades for Subject 0: (90, 78, 95, 65, 88)\n"
          ]
        }
      ]
    },
    {
      "cell_type": "code",
      "source": [
        "highest, lowest, average = grade_summary(student_data)\n",
        "print(f\"Grade Summary: Highest={highest}, Lowest={lowest}, Average={average}\")"
      ],
      "metadata": {
        "colab": {
          "base_uri": "https://localhost:8080/"
        },
        "id": "x3TMzreb1a17",
        "outputId": "cbd51340-4073-4c7e-fa6c-8d656720cc15"
      },
      "execution_count": 17,
      "outputs": [
        {
          "output_type": "stream",
          "name": "stdout",
          "text": [
            "[90, 85, 92, 78, 88, 84, 95, 91, 89, 65, 70, 72, 88, 76, 90]\n",
            "Grade Summary: Highest=95, Lowest=65, Average=83.53\n"
          ]
        }
      ]
    }
  ]
}