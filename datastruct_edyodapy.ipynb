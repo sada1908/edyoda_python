{
  "nbformat": 4,
  "nbformat_minor": 0,
  "metadata": {
    "colab": {
      "provenance": [],
      "authorship_tag": "ABX9TyPoSfZKGOTmMAtXeH2plOtv",
      "include_colab_link": true
    },
    "kernelspec": {
      "name": "python3",
      "display_name": "Python 3"
    },
    "language_info": {
      "name": "python"
    }
  },
  "cells": [
    {
      "cell_type": "markdown",
      "metadata": {
        "id": "view-in-github",
        "colab_type": "text"
      },
      "source": [
        "<a href=\"https://colab.research.google.com/github/sada1908/edyoda_python/blob/main/datastruct_edyodapy.ipynb\" target=\"_parent\"><img src=\"https://colab.research.google.com/assets/colab-badge.svg\" alt=\"Open In Colab\"/></a>"
      ]
    },
    {
      "cell_type": "code",
      "execution_count": 2,
      "metadata": {
        "id": "Vlff69mGdJFo"
      },
      "outputs": [],
      "source": [
        "from datetime import datetime"
      ]
    },
    {
      "cell_type": "code",
      "source": [
        "# Initial library data\n",
        "library = {\n",
        "    \"books\": [\n",
        "        {\n",
        "            \"title\": \"Python Basics\",\n",
        "            \"author\": (\"John\", \"Doe\"),\n",
        "            \"isbn\": \"1111111111\",\n",
        "            \"copies_available\": 2,\n",
        "            \"borrowers\": [\n",
        "                {\"name\": \"Alice\", \"due_date\": \"2025-07-15\"}\n",
        "            ]\n",
        "        },\n",
        "        {\n",
        "            \"title\": \"Data Science 101\",\n",
        "            \"author\": (\"Jane\", \"Smith\"),\n",
        "            \"isbn\": \"2222222222\",\n",
        "            \"copies_available\": 0,\n",
        "            \"borrowers\": [\n",
        "                {\"name\": \"Bob\", \"due_date\": \"2025-06-01\"},\n",
        "                {\"name\": \"Carol\", \"due_date\": \"2025-08-01\"}\n",
        "            ]\n",
        "        },\n",
        "        {\n",
        "            \"title\": \"Machine Learning\",\n",
        "            \"author\": (\"Jane\", \"Smith\"),\n",
        "            \"isbn\": \"3333333333\",\n",
        "            \"copies_available\": 1,\n",
        "            \"borrowers\": []\n",
        "        },\n",
        "        {\n",
        "            \"title\": \"Advanced Python\",\n",
        "            \"author\": (\"Alan\", \"Turing\"),\n",
        "            \"isbn\": \"4444444444\",\n",
        "            \"copies_available\": 5,\n",
        "            \"borrowers\": []\n",
        "        },\n",
        "        {\n",
        "            \"title\": \"AI Ethics\",\n",
        "            \"author\": (\"Ada\", \"Lovelace\"),\n",
        "            \"isbn\": \"5555555555\",\n",
        "            \"copies_available\": 3,\n",
        "            \"borrowers\": [{\"name\": \"Eve\", \"due_date\": \"2025-05-30\"}]\n",
        "        }\n",
        "    ]\n",
        "}"
      ],
      "metadata": {
        "id": "CLQGo6UqdMJ-"
      },
      "execution_count": 1,
      "outputs": []
    },
    {
      "cell_type": "code",
      "source": [
        "def check_out_book(title, borrower_name, due_date):\n",
        "    for book in library[\"books\"]:\n",
        "        if book[\"title\"].lower() == title.lower():\n",
        "            if book[\"copies_available\"] > 0:\n",
        "                book[\"copies_available\"] -= 1\n",
        "                book[\"borrowers\"].append({\"name\": borrower_name, \"due_date\": due_date})\n",
        "                print(f\"✅ {borrower_name} checked out '{book['title']}' (Due: {due_date})\")\n",
        "                return\n",
        "            else:\n",
        "                print(f\"❌ No copies of '{book['title']}' available.\")\n",
        "                return\n",
        "    print(f\"❌ Book titled '{title}' not found in library.\")"
      ],
      "metadata": {
        "id": "M8qOgAo5dMtE"
      },
      "execution_count": 3,
      "outputs": []
    },
    {
      "cell_type": "code",
      "source": [
        "def books_by_author(last_name):\n",
        "    results = []\n",
        "    for book in library[\"books\"]:\n",
        "        if book[\"author\"][1].lower() == last_name.lower():\n",
        "            results.append(book[\"title\"])\n",
        "    return results\n"
      ],
      "metadata": {
        "id": "0FVZU0tydWFO"
      },
      "execution_count": 4,
      "outputs": []
    },
    {
      "cell_type": "code",
      "source": [
        "def overdue_books(current_date_str):\n",
        "    current_date = datetime.strptime(current_date_str, \"%Y-%m-%d\")\n",
        "    result = {}\n",
        "\n",
        "    for book in library[\"books\"]:\n",
        "        overdue_borrowers = []\n",
        "        for borrower in book[\"borrowers\"]:\n",
        "            due = datetime.strptime(borrower[\"due_date\"], \"%Y-%m-%d\")\n",
        "            if due < current_date:\n",
        "                overdue_borrowers.append(borrower[\"name\"])\n",
        "        if overdue_borrowers:\n",
        "            result[book[\"title\"]] = overdue_borrowers\n",
        "\n",
        "    return result"
      ],
      "metadata": {
        "id": "hmuPYuvldY3V"
      },
      "execution_count": 5,
      "outputs": []
    },
    {
      "cell_type": "code",
      "source": [
        "def add_new_book(title, author_first, author_last, isbn, copies):\n",
        "    # Check if ISBN already exists\n",
        "    for book in library[\"books\"]:\n",
        "        if book[\"isbn\"] == isbn:\n",
        "            print(f\"❌ Book with ISBN {isbn} already exists.\")\n",
        "            return\n",
        "    # Add new book\n",
        "    new_book = {\n",
        "        \"title\": title,\n",
        "        \"author\": (author_first, author_last),\n",
        "        \"isbn\": isbn,\n",
        "        \"copies_available\": copies,\n",
        "        \"borrowers\": []\n",
        "    }\n",
        "    library[\"books\"].append(new_book)\n",
        "    print(f\"✅ Book '{title}' added successfully.\")"
      ],
      "metadata": {
        "id": "y7Qf9INUdbed"
      },
      "execution_count": 6,
      "outputs": []
    },
    {
      "cell_type": "code",
      "source": [
        "# Check out a book\n",
        "check_out_book(\"Machine Learning\", \"David\", \"2025-08-10\")\n"
      ],
      "metadata": {
        "colab": {
          "base_uri": "https://localhost:8080/"
        },
        "id": "gVM2rYOideHb",
        "outputId": "c2ec01e9-9504-4b72-a2a2-20df20b3aea3"
      },
      "execution_count": 7,
      "outputs": [
        {
          "output_type": "stream",
          "name": "stdout",
          "text": [
            "✅ David checked out 'Machine Learning' (Due: 2025-08-10)\n"
          ]
        }
      ]
    },
    {
      "cell_type": "code",
      "source": [
        "print(\"📚 Books by Smith:\", books_by_author(\"Smith\"))"
      ],
      "metadata": {
        "colab": {
          "base_uri": "https://localhost:8080/"
        },
        "id": "YwKc4WjRdhoI",
        "outputId": "8c144c26-a52d-42ed-e7f5-51184d103028"
      },
      "execution_count": 8,
      "outputs": [
        {
          "output_type": "stream",
          "name": "stdout",
          "text": [
            "📚 Books by Smith: ['Data Science 101', 'Machine Learning']\n"
          ]
        }
      ]
    },
    {
      "cell_type": "code",
      "source": [
        "print(\"⏰ Overdue books:\", overdue_books(\"2025-07-17\"))"
      ],
      "metadata": {
        "colab": {
          "base_uri": "https://localhost:8080/"
        },
        "id": "Ux8cp2gNdtbx",
        "outputId": "84232a66-f3ac-4fd7-f5ac-2affdde21f9e"
      },
      "execution_count": 9,
      "outputs": [
        {
          "output_type": "stream",
          "name": "stdout",
          "text": [
            "⏰ Overdue books: {'Python Basics': ['Alice'], 'Data Science 101': ['Bob'], 'AI Ethics': ['Eve']}\n"
          ]
        }
      ]
    },
    {
      "cell_type": "code",
      "source": [
        "add_new_book(\"Neural Networks\", \"Geoffrey\", \"Hinton\", \"6666666666\", 4)"
      ],
      "metadata": {
        "colab": {
          "base_uri": "https://localhost:8080/"
        },
        "id": "oNxukQ2vdv50",
        "outputId": "6b919af4-8711-42d8-a97c-3dbe9c9b499a"
      },
      "execution_count": 10,
      "outputs": [
        {
          "output_type": "stream",
          "name": "stdout",
          "text": [
            "✅ Book 'Neural Networks' added successfully.\n"
          ]
        }
      ]
    },
    {
      "cell_type": "code",
      "source": [],
      "metadata": {
        "id": "xejMXhHydyeL"
      },
      "execution_count": null,
      "outputs": []
    }
  ]
}