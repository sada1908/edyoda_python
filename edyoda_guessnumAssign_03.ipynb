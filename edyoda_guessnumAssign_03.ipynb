{
 "cells": [
  {
   "cell_type": "code",
   "execution_count": 1,
   "id": "d2ff4876",
   "metadata": {},
   "outputs": [],
   "source": [
    "import random"
   ]
  },
  {
   "cell_type": "code",
   "execution_count": 7,
   "id": "bb7fa712",
   "metadata": {},
   "outputs": [
    {
     "name": "stdout",
     "output_type": "stream",
     "text": [
      "Game exited early.\n"
     ]
    }
   ],
   "source": [
    "target = random.randint(1, 100)\n",
    "max_attempts = 7\n",
    "attempts = 0\n",
    "won = False\n",
    "\n",
    "for _ in range(max_attempts):\n",
    "    guess = input(\"Guess a number between 1 and 100 (or type 'quit' to exit): \")\n",
    "    if guess.lower() == 'quit':\n",
    "        print(\"Game exited early.\")\n",
    "        break\n",
    "    try:\n",
    "        guess_num = int(guess)\n",
    "    except ValueError:\n",
    "        print(\"Please enter a valid number.\")\n",
    "        continue\n",
    "    attempts += 1\n",
    "    if guess_num == target:\n",
    "        print(f\"Congratulations! You guessed the number in {attempts} attempts.\")\n",
    "        won = True\n",
    "        break\n",
    "    elif guess_num < target:\n",
    "        print(\"Too low.\")\n",
    "        continue\n",
    "    else:\n",
    "        print(\"Too high.\")\n",
    "        continue\n",
    "\n",
    "if not won and guess.lower() != 'quit':\n",
    "    print(f\"Sorry, you lost. The number was {target}. Attempts used: {attempts}\")"
   ]
  },
  {
   "cell_type": "code",
   "execution_count": null,
   "id": "8ec53594",
   "metadata": {
    "vscode": {
     "languageId": "markdown"
    }
   },
   "outputs": [],
   "source": []
  },
  {
   "cell_type": "code",
   "execution_count": null,
   "id": "e8f2ad27",
   "metadata": {},
   "outputs": [],
   "source": []
  }
 ],
 "metadata": {
  "kernelspec": {
   "display_name": ".venv",
   "language": "python",
   "name": "python3"
  },
  "language_info": {
   "codemirror_mode": {
    "name": "ipython",
    "version": 3
   },
   "file_extension": ".py",
   "mimetype": "text/x-python",
   "name": "python",
   "nbconvert_exporter": "python",
   "pygments_lexer": "ipython3",
   "version": "3.12.0"
  }
 },
 "nbformat": 4,
 "nbformat_minor": 5
}
